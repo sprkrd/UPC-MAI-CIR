{
 "cells": [
  {
   "cell_type": "code",
   "execution_count": 1,
   "metadata": {},
   "outputs": [],
   "source": [
    "from Environment import Environment\n",
    "import numpy as np\n",
    "from tqdm import tqdm\n",
    "import time\n",
    "import matplotlib.pyplot as plt"
   ]
  },
  {
   "cell_type": "code",
   "execution_count": 2,
   "metadata": {
    "collapsed": true
   },
   "outputs": [],
   "source": [
    "c1, c2, c3, arm, last_l, last_r = list(range(0, 6))\n",
    "empty, red, blue, green = list(range(0, 4))\n",
    "actions = [\"pick1\", \"pick2\", \"pick3\", \"putL\", \"putR\"]\n",
    "\n",
    "\n",
    "def updateQ(Q, s, a, r, sn, gamma, alpha=0.05):\n",
    "    old_value = Q[s[c1], s[c2], s[c3], s[arm], s[last_l], s[last_r], actions.index(a)]\n",
    "    optimal_fut_value = np.max(Q[sn[c1], sn[c2], sn[c3], sn[arm], sn[last_l], sn[last_r], :])\n",
    "    update = (1.0 - alpha) * old_value + alpha * (r + gamma * optimal_fut_value)\n",
    "    Q[s[c1], s[c2], s[c3], s[arm], s[last_l], s[last_r], actions.index(a)] = update\n",
    "\n",
    "def train(iterations=10000, traj_len=100, alpha=1.0, alpha_decay=0.999,  \\\n",
    "          alpha_min=0.01, gamma=0.95, exp_decay=0.999, exp_min=0.5):\n",
    "    env = Environment()\n",
    "    gamma = 0.95\n",
    "    Q = np.ones((4, 4, 4, 4, 4, 4, 5))\n",
    "    exp = 1.0\n",
    "    for it in tqdm(range(iterations)):\n",
    "        env.reset()\n",
    "        s = env.get_current_state()\n",
    "        for step in range(traj_len):\n",
    "            if np.random.uniform(0, 1) <= max(exp, exp_min):\n",
    "                a = actions[np.random.randint(0, 5)]\n",
    "            else:\n",
    "                a = actions[np.argmax(Q[s[c1], s[c2], s[c3], s[arm], s[last_l], s[last_r], :])]\n",
    "            r = env.get_reward(s, a)\n",
    "            sn = env.execute_action(a)\n",
    "            updateQ(Q, s, a, r, sn, gamma, max(alpha, alpha_min))\n",
    "            s = sn\n",
    "            alpha = alpha * alpha_decay\n",
    "            exp = exp * exp_decay\n",
    "    return Q\n"
   ]
  },
  {
   "cell_type": "code",
   "execution_count": 3,
   "metadata": {},
   "outputs": [
    {
     "name": "stderr",
     "output_type": "stream",
     "text": [
      "100%|██████████| 10000/10000 [00:23<00:00, 425.40it/s]"
     ]
    },
    {
     "name": "stdout",
     "output_type": "stream",
     "text": [
      "[[  58.67682122    3.8034111     4.99338698    8.60612388    5.55190119]\n",
      " [  18.69879499   13.28995953   16.41941059  145.09727608    6.32362966]\n",
      " [   1.20569088    1.23621512    1.29765906    1.3715994    15.09871113]\n",
      " [   1.6564378     1.37679154    1.74856131   30.34283655   -6.96930533]]\n"
     ]
    },
    {
     "name": "stderr",
     "output_type": "stream",
     "text": [
      "\n"
     ]
    }
   ],
   "source": [
    "Q = train()\n",
    "print(Q[1, 2, 3, :, 2, 1, :])"
   ]
  },
  {
   "cell_type": "code",
   "execution_count": 4,
   "metadata": {},
   "outputs": [],
   "source": [
    "def getTrajectory(Q, maxLength=200):\n",
    "    env = Environment()\n",
    "    traj_s = []\n",
    "    traj_a = []\n",
    "    traj_r = []\n",
    "    s = env.get_current_state()\n",
    "    for i in range(maxLength):\n",
    "        a = actions[np.argmax(Q[s[c1], s[c2], s[c3], s[arm], s[last_l], s[last_r], :])]\n",
    "        traj_s.append(s)\n",
    "        traj_a.append(a)\n",
    "        traj_r.append(env.get_reward(s, a))\n",
    "        s = env.execute_action(a)\n",
    "    return traj_s, traj_a, traj_r\n",
    "\n",
    "def getTrajectories(Q, n=100, maxLength=200):\n",
    "    trajs = []\n",
    "    trajs.append([getTrajectory(Q, maxLength)])"
   ]
  },
  {
   "cell_type": "code",
   "execution_count": 5,
   "metadata": {},
   "outputs": [],
   "source": [
    "# print(Q[1, 2, 3, :, 0, 0, :])\n",
    "# print(Q[1, 2, 3, :, 2, 1, :])\n",
    "\n",
    "trajs = getTrajectories(Q)\n"
   ]
  },
  {
   "cell_type": "code",
   "execution_count": 6,
   "metadata": {},
   "outputs": [],
   "source": [
    "# rsum = 0\n",
    "# counter = 0\n",
    "# alog = []\n",
    "# for i in range(0, 10000):\n",
    "#     counter += 1\n",
    "#     s = np.copy(s)\n",
    "#     a = actions[np.argmax(Q[s[c1], s[c2], s[c3], s[arm], s[last_l], s[last_r], :])]\n",
    "#     alog.append(actions.index(a))\n",
    "#     r = env.get_reward(s, a)\n",
    "#     rsum += r\n",
    "#     print((str(s) + ' | ' + a + ' | ' + str(r) + ' | {:.2f}'.format(rsum/counter)), end='\\r')\n",
    "#     s = env.execute_action(a)\n",
    "#     # time.sleep(0.8)\n",
    "    \n",
    "# plt.hist(alog, bins=5, normed=1)\n",
    "# plt.show()"
   ]
  },
  {
   "cell_type": "code",
   "execution_count": 7,
   "metadata": {},
   "outputs": [
    {
     "ename": "SyntaxError",
     "evalue": "invalid syntax (<ipython-input-7-bf52aa9678f9>, line 2)",
     "output_type": "error",
     "traceback": [
      "\u001b[0;36m  File \u001b[0;32m\"<ipython-input-7-bf52aa9678f9>\"\u001b[0;36m, line \u001b[0;32m2\u001b[0m\n\u001b[0;31m    D =\u001b[0m\n\u001b[0m        ^\u001b[0m\n\u001b[0;31mSyntaxError\u001b[0m\u001b[0;31m:\u001b[0m invalid syntax\n"
     ]
    }
   ],
   "source": [
    "# initial state distribution\n",
    "# D = "
   ]
  },
  {
   "cell_type": "code",
   "execution_count": null,
   "metadata": {
    "collapsed": true
   },
   "outputs": [],
   "source": []
  },
  {
   "cell_type": "code",
   "execution_count": null,
   "metadata": {},
   "outputs": [],
   "source": []
  },
  {
   "cell_type": "code",
   "execution_count": null,
   "metadata": {
    "collapsed": true
   },
   "outputs": [],
   "source": []
  }
 ],
 "metadata": {
  "kernelspec": {
   "display_name": "Python [conda env:anaconda3]",
   "language": "python",
   "name": "conda-env-anaconda3-py"
  },
  "language_info": {
   "codemirror_mode": {
    "name": "ipython",
    "version": 3
   },
   "file_extension": ".py",
   "mimetype": "text/x-python",
   "name": "python",
   "nbconvert_exporter": "python",
   "pygments_lexer": "ipython3",
   "version": "3.6.2"
  }
 },
 "nbformat": 4,
 "nbformat_minor": 2
}
