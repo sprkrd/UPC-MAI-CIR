{
 "cells": [
  {
   "cell_type": "code",
   "execution_count": 1,
   "metadata": {},
   "outputs": [],
   "source": [
    "from Environment import Environment\n",
    "import numpy as np\n",
    "from tqdm import tqdm\n",
    "import time\n",
    "import matplotlib.pyplot as plt\n",
    "from collections import Counter\n",
    "\n",
    "import torch\n",
    "from torch.autograd import Variable"
   ]
  },
  {
   "cell_type": "code",
   "execution_count": 2,
   "metadata": {
    "collapsed": true
   },
   "outputs": [],
   "source": [
    "# some helper variables to represent the different \n",
    "# possible states and actions:\n",
    "c1, c2, c3, arm, last_l, last_r = list(range(0, 6))\n",
    "empty, red, blue, green = list(range(0, 4))\n",
    "actions = [\"pickL\", \"pickM\", \"pickR\", \"putL\", \"putR\"]"
   ]
  },
  {
   "cell_type": "code",
   "execution_count": 3,
   "metadata": {
    "collapsed": true
   },
   "outputs": [],
   "source": [
    "def updateQ(Q, s, a, r, sn, gamma, alpha=0.05):\n",
    "    '''\n",
    "        Performs a single update step of Q-learning.\n",
    "        \n",
    "        Parameter:\n",
    "            Q: np.array, shape: (4, 4, 4, 4, 4, 4, 5)\n",
    "                the first six dimensions represent the state variables c1, ... last_r\n",
    "                the last dimension represents the action\n",
    "            s: the state of the state action pair to be updated\n",
    "            a: the action of the state action pair to be updated\n",
    "            r: the observed reward\n",
    "            sn: the next state\n",
    "            gamma: the discount factor\n",
    "            alpha: the 'learning rate'\n",
    "        \n",
    "        Updates one of the values of the passed argument Q.\n",
    "    '''\n",
    "    old_value = Q[s[c1], s[c2], s[c3], s[arm], s[last_l], s[last_r], actions.index(a)]\n",
    "    optimal_fut_value = np.max(Q[sn[c1], sn[c2], sn[c3], sn[arm], sn[last_l], sn[last_r], :])\n",
    "    update = (1.0 - alpha) * old_value + alpha * (r + gamma * optimal_fut_value)\n",
    "    Q[s[c1], s[c2], s[c3], s[arm], s[last_l], s[last_r], actions.index(a)] = update"
   ]
  },
  {
   "cell_type": "code",
   "execution_count": 4,
   "metadata": {},
   "outputs": [],
   "source": [
    "def qLearning(iterations=10000, traj_len=100, alpha=1.0, alpha_decay=0.999,  \\\n",
    "              alpha_min=0.05, gamma=0.95, exp=1.0,  exp_decay=0.990, exp_min=0.5, \\\n",
    "              stats=False):\n",
    "    '''\n",
    "    Performs Q-learning and returns estimated Q-array with value of state-action pairs\n",
    "    \n",
    "    Parameter:\n",
    "        iterations (int): how many iterations the learning will run\n",
    "        traj_len (int): the length of the trajectory in each iteration\n",
    "            (Agent starts in fresh environment in each iteration and then\n",
    "             explores/exploits for traj_len steps)\n",
    "         alpha (float): initial learning rate\n",
    "         alpha_decay (float): decay of alpha in each iteration\n",
    "         alpha_min (float): alpha will never decay below this value\n",
    "         gamma (float): discount factor of future rewards\n",
    "         exp (float): initial exploration frequency\n",
    "         exp_decay (float): decay of exp in each iteration\n",
    "         exp_min (float): exploration frequency will never decay below this\n",
    "         stats (bool): wether to return learning statistics\n",
    "         \n",
    "     Returns estimated values of state action pairs, Q:\n",
    "         Q: np.array, shape: (4, 4, 4, 4, 4, 4, 5) \n",
    "    '''\n",
    "    env = Environment()\n",
    "    gamma = 0.95\n",
    "    Q = np.zeros((4, 4, 4, 4, 4, 4, 5))\n",
    "    exp = 1.0\n",
    "    if stats:\n",
    "        alphas = []\n",
    "        exps = []\n",
    "    for it in tqdm(range(iterations)):\n",
    "        if stats:\n",
    "            alphas.append(alpha)\n",
    "            exps.append(exp)\n",
    "        env.reset()\n",
    "        s = env.get_current_state()\n",
    "        for step in range(traj_len):\n",
    "            if np.random.uniform(0, 1) <= exp:\n",
    "                a = actions[np.random.randint(0, 5)]\n",
    "            else:\n",
    "                a = actions[np.argmax(Q[s[c1], s[c2], s[c3], s[arm], s[last_l], s[last_r], :])]\n",
    "            r = env.get_reward(s, a)\n",
    "            sn = env.execute_action(a)\n",
    "            updateQ(Q, s, a, r, sn, gamma, alpha)\n",
    "            s = sn\n",
    "        alpha = max(alpha * alpha_decay, alpha_min)\n",
    "        exp = max(exp * exp_decay, exp_min)\n",
    "    if stats:\n",
    "        return Q, alphas, exps\n",
    "    return Q"
   ]
  },
  {
   "cell_type": "code",
   "execution_count": 5,
   "metadata": {},
   "outputs": [
    {
     "name": "stderr",
     "output_type": "stream",
     "text": [
      "100%|██████████| 100000/100000 [03:49<00:00, 436.39it/s]\n"
     ]
    }
   ],
   "source": [
    "Q, alphas, exps = qLearning(iterations=100000, stats=True, exp_decay=0.9997, exp_min=0.1)"
   ]
  },
  {
   "cell_type": "code",
   "execution_count": 6,
   "metadata": {},
   "outputs": [
    {
     "data": {
      "image/png": "[encoded data removed]",
      "text/plain": [
       "<matplotlib.figure.Figure at 0x11718b710>"
      ]
     },
     "metadata": {},
     "output_type": "display_data"
    },
    {
     "data": {
      "image/png": "[encoded data removed]",
      "text/plain": [
       "<matplotlib.figure.Figure at 0x1172fb390>"
      ]
     },
     "metadata": {},
     "output_type": "display_data"
    }
   ],
   "source": [
    "plt.plot(exps)\n",
    "plt.title('Exploration vs. exploitation')\n",
    "plt.xlabel('Iteration')\n",
    "plt.ylabel('Exploration fraction')\n",
    "plt.yscale('log')\n",
    "plt.show()\n",
    "plt.plot(alphas)\n",
    "plt.title('Learning rate over iterations')\n",
    "plt.xlabel('Iteration')\n",
    "plt.ylabel('Learning rate')\n",
    "plt.yscale('log')\n",
    "plt.show()"
   ]
  },
  {
   "cell_type": "code",
   "execution_count": 183,
   "metadata": {},
   "outputs": [
    {
     "name": "stdout",
     "output_type": "stream",
     "text": [
      "table: [red, green, blue]\n",
      "buckets: [green, red]\n",
      "\n",
      "--------------------------------------------------------------------------------------------------\n",
      "action: \t|\tpickL\t|\tpickM\t|\tpickR\t|\tputL\t|\tputR\t|\n",
      "--------------------------------------------------------------------------------------------------\n",
      "arm: empty\t|540.26216\t|531.68850\t|658.26995\t|588.03808\t|578.21548\t|\n",
      "arm: red\t|0.00000\t|0.00000\t|0.00000\t|0.00000\t|0.00000\t|\n",
      "arm: green\t|0.00000\t|0.00000\t|0.00000\t|0.00000\t|0.00000\t|\n",
      "arm: blue\t|0.00000\t|0.00000\t|0.00000\t|0.00000\t|0.00000\t|\n",
      "--------------------------------------------------------------------------------------------------\n"
     ]
    }
   ],
   "source": [
    "print('table: [red, green, blue]')\n",
    "print('buckets: [green, red]\\n')\n",
    "\n",
    "print('-'*98)\n",
    "print('action: \\t|\\tpickL\\t|\\tpickM\\t|\\tpickR\\t|\\tputL\\t|\\tputR\\t|')\n",
    "print('-'*98)\n",
    "for i, table in enumerate(['empty', 'red', 'green', 'blue']):\n",
    "    s = 'arm: ' + table + '\\t|'\n",
    "    for j, v in enumerate(Q[1, 2, 3, i, 2, 1, :]):\n",
    "        s += '%.5f' % v + '\\t|'\n",
    "    print(s)\n",
    "print('-'*98)"
   ]
  },
  {
   "cell_type": "code",
   "execution_count": 184,
   "metadata": {},
   "outputs": [
    {
     "name": "stdout",
     "output_type": "stream",
     "text": [
      "table: [red, empty, blue]\n",
      "buckets: [green, red]\n",
      "\n",
      "--------------------------------------------------------------------------------------------------\n",
      "action: \t|\tpickL\t|\tpickM\t|\tpickR\t|\tputL\t|\tputR\t|\n",
      "--------------------------------------------------------------------------------------------------\n",
      "arm: empty\t|0.00000\t|0.00000\t|0.00000\t|0.00000\t|0.00000\t|\n",
      "arm: red\t|490.39976\t|490.08167\t|512.22850\t|589.24029\t|508.63378\t|\n",
      "arm: green\t|510.84104\t|481.16476\t|432.40850\t|514.58223\t|599.99418\t|\n",
      "arm: blue\t|407.68603\t|261.22442\t|358.55292\t|519.96607\t|341.36808\t|\n",
      "--------------------------------------------------------------------------------------------------\n"
     ]
    }
   ],
   "source": [
    "print('table: [red, empty, blue]')\n",
    "print('buckets: [green, red]\\n')\n",
    "\n",
    "print('-'*98)\n",
    "print('action: \\t|\\tpickL\\t|\\tpickM\\t|\\tpickR\\t|\\tputL\\t|\\tputR\\t|')\n",
    "print('-'*98)\n",
    "for i, table in enumerate(['empty', 'red', 'green', 'blue']):\n",
    "    s = 'arm: ' + table + '\\t|'\n",
    "    for j, v in enumerate(Q[1, 0, 3, i, 2, 1, :]):\n",
    "        s += '%.5f' % v + '\\t|'\n",
    "    print(s)\n",
    "print('-'*98)"
   ]
  },
  {
   "cell_type": "code",
   "execution_count": 9,
   "metadata": {},
   "outputs": [],
   "source": [
    "def getTrajectory(Q, rationality=1.0, maxLength=200):\n",
    "    '''\n",
    "    Obtain a trajectory following the optimal policy based on Q.\n",
    "    \n",
    "    Parameters:\n",
    "        Q: np.array, shape: (4, 4, 4, 4, 4, 4, 5)\n",
    "            the first six dimensions represent the state variables c1, ... last_r\n",
    "            the last dimension represents the action\n",
    "        rationality (float): between 0 and 1. Fraction of optimal actions\n",
    "            When < 1.0 the trajectory will sometimes contain random actions\n",
    "        maxLength (int): the length of the trajectory\n",
    "    '''\n",
    "    env = Environment()\n",
    "    traj_s = []\n",
    "    traj_a = []\n",
    "    traj_r = []\n",
    "    s = env.get_current_state()\n",
    "    for i in range(maxLength):\n",
    "        a = actions[np.argmax(Q[s[c1], s[c2], s[c3], s[arm], s[last_l], s[last_r], :])]\n",
    "        if rationality < np.random.random():\n",
    "            a = actions[np.random.randint(0, 5)]\n",
    "        traj_s.append(s)\n",
    "        traj_a.append(a)\n",
    "        traj_r.append(env.get_reward(s, a))\n",
    "        s = env.execute_action(a)\n",
    "    return traj_s, traj_a, traj_r"
   ]
  },
  {
   "cell_type": "code",
   "execution_count": 10,
   "metadata": {},
   "outputs": [
    {
     "name": "stderr",
     "output_type": "stream",
     "text": [
      "100%|██████████| 101/101 [02:17<00:00,  1.36s/it]\n"
     ]
    },
    {
     "data": {
      "image/png": "[encoded data removed]",
      "text/plain": [
       "<matplotlib.figure.Figure at 0x11718b050>"
      ]
     },
     "metadata": {},
     "output_type": "display_data"
    }
   ],
   "source": [
    "r_sums = []\n",
    "n_trajs = 1000\n",
    "lengths = 100\n",
    "for i in tqdm(np.arange(0, 1.01, 0.01)):\n",
    "    rsum = 0\n",
    "    for j in range(n_trajs):\n",
    "        _, _, rs = getTrajectory(Q, rationality=i, maxLength=lengths)\n",
    "        rsum += np.sum(rs)\n",
    "    r_sums.append(rsum)\n",
    "    \n",
    "plt.plot(np.arange(0, 1.01, 0.01), np.array(r_sums) / (n_trajs * lengths), linestyle=':')\n",
    "plt.xlabel('Rationality fraction')\n",
    "plt.ylabel('Average reward per step')\n",
    "plt.title('Rationality and average reward')\n",
    "plt.show()"
   ]
  },
  {
   "cell_type": "code",
   "execution_count": 11,
   "metadata": {},
   "outputs": [],
   "source": [
    "def getTrajectories(Q, M=100, rationality=1.0, maxLength=50):\n",
    "    '''\n",
    "    Returns:\n",
    "        np.array of shape (M, 3, maxLength)\n",
    "        [:, 0, :]: states (array of state variables)\n",
    "        [:, 1, :]: actions (string)\n",
    "        [:, 2, :]: rewards (int)\n",
    "    '''\n",
    "    \n",
    "    trajs = []\n",
    "    for i in range(M):\n",
    "        trajs.append([getTrajectory(Q, rationality, maxLength)])\n",
    "    return np.array(trajs).reshape(M,3,maxLength)"
   ]
  },
  {
   "cell_type": "code",
   "execution_count": 12,
   "metadata": {},
   "outputs": [
    {
     "name": "stdout",
     "output_type": "stream",
     "text": [
      "state as one hot encoded features:\n",
      "[[0 1 0 0 0 0]\n",
      " [1 0 0 0 0 1]\n",
      " [1 0 0 0 0 1]\n",
      " [0 0 0 0 1 0]]\n",
      "action as one hot encoded features:\n",
      "[0 0 0 0 1]\n"
     ]
    }
   ],
   "source": [
    "def sa_to_features(s, a):\n",
    "    '''\n",
    "    XXX todo\n",
    "    '''\n",
    "    f = []\n",
    "    for sv in range(len(s)):\n",
    "        sv_one_hot = [0] * 4\n",
    "        sv_one_hot[s[sv]] = 1\n",
    "        f += sv_one_hot\n",
    "    a_one_hot = [0] * 5\n",
    "    a_one_hot[actions.index(a)] = 1\n",
    "    f += a_one_hot\n",
    "    return np.array(f)\n",
    "\n",
    "feats = sa_to_features([1, 2, 3, 0, 1, 2], 'putR')\n",
    "print('state as one hot encoded features:')\n",
    "print(np.reshape(np.array(feats[:-5]), (4, 6)))\n",
    "print('action as one hot encoded features:')\n",
    "print(np.array(feats[-5:]))"
   ]
  },
  {
   "cell_type": "code",
   "execution_count": 13,
   "metadata": {},
   "outputs": [],
   "source": [
    "def traj_to_features(traj):\n",
    "    '''\n",
    "    XXX todo\n",
    "    '''\n",
    "    res = []\n",
    "    traj = np.array(traj)\n",
    "    for i in range(traj.shape[1]):\n",
    "        s = traj[0,i]\n",
    "        a = traj[1,i]\n",
    "        res.append(sa_to_features(s, a))\n",
    "    return np.array(res)\n",
    "\n",
    "def trajs_to_features(trajs):\n",
    "    '''\n",
    "    XXX todo\n",
    "    '''\n",
    "    res = []\n",
    "    for i in range(len(trajs)):\n",
    "        res.append(traj_to_features(trajs[i]))\n",
    "    return np.array(res)"
   ]
  },
  {
   "cell_type": "code",
   "execution_count": 14,
   "metadata": {},
   "outputs": [
    {
     "name": "stdout",
     "output_type": "stream",
     "text": [
      "single state action pair as feature:\n",
      "(29,)\n",
      "trajectory as features:\n",
      "(200, 29)\n",
      "trajectories as features:\n",
      "(100, 50, 29)\n"
     ]
    }
   ],
   "source": [
    "print('single state action pair as feature:')\n",
    "feats = sa_to_features([1, 2, 3, 0, 1, 2], 'putR')\n",
    "print(feats.shape)\n",
    "print('trajectory as features:')\n",
    "traj = getTrajectory(Q)\n",
    "feats = traj_to_features(traj)\n",
    "print(feats.shape)\n",
    "print('trajectories as features:')\n",
    "trajs = getTrajectories(Q)\n",
    "feats = trajs_to_features(trajs)\n",
    "print(feats.shape)"
   ]
  },
  {
   "cell_type": "code",
   "execution_count": 165,
   "metadata": {},
   "outputs": [],
   "source": [
    "class Rpred(torch.nn.Module):\n",
    "    '''\n",
    "    XXX todo\n",
    "    '''\n",
    "    def __init__(self):\n",
    "        super(Rpred, self).__init__()\n",
    "        self.layer1 = torch.nn.Sequential(\n",
    "            torch.nn.Dropout(0.5),\n",
    "            torch.nn.Linear(29, 500),\n",
    "            torch.nn.ReLU()          \n",
    "        )\n",
    "        self.layer2 = torch.nn.Sequential(\n",
    "            torch.nn.Dropout(0.5),\n",
    "            torch.nn.Linear(500, 200),\n",
    "            torch.nn.ReLU()  \n",
    "        )\n",
    "        self.layer3 = torch.nn.Sequential(\n",
    "            torch.nn.Dropout(0.5),\n",
    "            torch.nn.Linear(200, 1),\n",
    "            torch.nn.Tanh()  \n",
    "        )\n",
    "\n",
    "        \n",
    "    def forward(self, x):\n",
    "        out = self.layer1(x)\n",
    "        out = self.layer2(out)\n",
    "        out = self.layer3(out)\n",
    "        return out\n",
    "    \n",
    "rpred = Rpred()\n",
    "optimizer = torch.optim.Adagrad(rpred.parameters())"
   ]
  },
  {
   "cell_type": "code",
   "execution_count": 189,
   "metadata": {},
   "outputs": [
    {
     "name": "stderr",
     "output_type": "stream",
     "text": [
      "100%|██████████| 50/50 [12:54<00:00, 15.49s/it]\n"
     ]
    },
    {
     "data": {
      "text/plain": [
       "Rpred (\n",
       "  (layer1): Sequential (\n",
       "    (0): Dropout (p = 0.5)\n",
       "    (1): Linear (29 -> 500)\n",
       "    (2): ReLU ()\n",
       "  )\n",
       "  (layer2): Sequential (\n",
       "    (0): Dropout (p = 0.5)\n",
       "    (1): Linear (500 -> 200)\n",
       "    (2): ReLU ()\n",
       "  )\n",
       "  (layer3): Sequential (\n",
       "    (0): Dropout (p = 0.5)\n",
       "    (1): Linear (200 -> 1)\n",
       "    (2): Tanh ()\n",
       "  )\n",
       ")"
      ]
     },
     "execution_count": 189,
     "metadata": {},
     "output_type": "execute_result"
    }
   ],
   "source": [
    "losses = []\n",
    "lossesv = []\n",
    "\n",
    "iterations = 50\n",
    "\n",
    "trajsG = getTrajectories(Q, M=1000, rationality=0.95, maxLength=200)\n",
    "trajsG_features = trajs_to_features(trajsG)\n",
    "trajsG_features = Variable(torch.from_numpy(trajsG_features)).float()\n",
    "trajsB = getTrajectories(Q, M=1000, rationality=0.0, maxLength=200)\n",
    "trajsB_features = trajs_to_features(trajsB)\n",
    "trajsB_features = Variable(torch.from_numpy(trajsB_features)).float()\n",
    "# XXX todo: requires gradient false for trajs_features\n",
    "\n",
    "trajsGv = getTrajectories(Q, M=100, rationality=0.95, maxLength=200)\n",
    "trajsGv_features = trajs_to_features(trajsGv)\n",
    "trajsGv_features = Variable(torch.from_numpy(trajsGv_features)).float()\n",
    "trajsBv = getTrajectories(Q, M=100, rationality=0.0, maxLength=200)\n",
    "trajsBv_features = trajs_to_features(trajsBv)\n",
    "trajsBv_features = Variable(torch.from_numpy(trajsBv_features)).float()\n",
    "\n",
    "rpred.train()\n",
    "for i in tqdm(range(iterations)):\n",
    "        \n",
    "    rpredsG = rpred(trajsG_features).view(trajsG_features.data.shape[0],trajsG_features.data.shape[1])\n",
    "    rpredsB = rpred(trajsB_features).view(trajsB_features.data.shape[0],trajsB_features.data.shape[1])\n",
    "    rpredsGv = rpred(trajsGv_features).view(trajsGv_features.data.shape[0],trajsGv_features.data.shape[1])\n",
    "    rpredsBv = rpred(trajsBv_features).view(trajsBv_features.data.shape[0],trajsBv_features.data.shape[1])\n",
    "\n",
    "#     R_of_zeta = torch.sum(rpreds, dim=1)\n",
    "\n",
    "#     objective = (1.0 / trajs_features.data.shape[0]) * torch.sum(R_of_zeta) - torch.log(torch.sum(torch.exp(R_of_zeta)))\n",
    "    \n",
    "    objective = (torch.sum(rpredsG) - torch.sum(rpredsB))\n",
    "    objectivev = (torch.sum(rpredsGv) - torch.sum(rpredsBv))\n",
    "    \n",
    "    loss = - (objective / 1000.0)\n",
    "    lossv = - (objectivev / 100.0)\n",
    "    losses.append(loss.data[0])  \n",
    "    lossesv.append(lossv.data[0])\n",
    "\n",
    "    optimizer.zero_grad()\n",
    "    loss.backward(retain_graph=True)\n",
    "    optimizer.step()\n",
    "    \n",
    "rpred.eval()"
   ]
  },
  {
   "cell_type": "code",
   "execution_count": 190,
   "metadata": {},
   "outputs": [
    {
     "data": {
      "image/png": "[encoded data removed]",
      "text/plain": [
       "<matplotlib.figure.Figure at 0x11a2c4210>"
      ]
     },
     "metadata": {},
     "output_type": "display_data"
    }
   ],
   "source": [
    "plt.plot(np.arange(iterations), losses)\n",
    "plt.plot(np.arange(iterations), lossesv)\n",
    "plt.title('Loss of basic MLP reward approximator')\n",
    "plt.xlabel('iteration')\n",
    "plt.ylabel('loss')\n",
    "plt.show()"
   ]
  },
  {
   "cell_type": "code",
   "execution_count": null,
   "metadata": {},
   "outputs": [],
   "source": [
    "def qLearning_from_estimates(iterations=10000, traj_len=100, alpha=1.0, alpha_decay=0.999,  \\\n",
    "              alpha_min=0.05, gamma=0.95, exp=1.0,  exp_decay=0.990, exp_min=0.5, \\\n",
    "              stats=False):\n",
    "    env = Environment()\n",
    "    gamma = 0.95\n",
    "    Q = np.zeros((4, 4, 4, 4, 4, 4, 5))\n",
    "    exp = 1.0\n",
    "    if stats:\n",
    "        alphas = []\n",
    "        exps = []\n",
    "    for it in tqdm(range(iterations)):\n",
    "        if stats:\n",
    "            alphas.append(alpha)\n",
    "            exps.append(exp)\n",
    "        env.reset()\n",
    "        s = env.get_current_state()\n",
    "        for step in range(traj_len):\n",
    "            if np.random.uniform(0, 1) <= exp:\n",
    "                a = actions[np.random.randint(0, 5)]\n",
    "            else:\n",
    "                a = actions[np.argmax(Q[s[c1], s[c2], s[c3], s[arm], s[last_l], s[last_r], :])]\n",
    "            features = sa_to_features(s, a)\n",
    "            features = Variable(torch.from_numpy(features)).float()\n",
    "            pred = rpred(features)\n",
    "            r = pred.data[0]\n",
    "            sn = env.execute_action(a)\n",
    "            updateQ(Q, s, a, r, sn, gamma, alpha)\n",
    "            s = sn\n",
    "        alpha = max(alpha * alpha_decay, alpha_min)\n",
    "        exp = max(exp * exp_decay, exp_min)\n",
    "    if stats:\n",
    "        return Q, alphas, exps\n",
    "    return Q\n",
    "\n",
    "Q_estim = qLearning_from_estimates(iterations=100000, exp_decay=0.9997, exp_min=0.1)"
   ]
  },
  {
   "cell_type": "code",
   "execution_count": 185,
   "metadata": {},
   "outputs": [],
   "source": [
    "np.save('Qs_estim.npy', Q_estim)"
   ]
  },
  {
   "cell_type": "code",
   "execution_count": 186,
   "metadata": {},
   "outputs": [
    {
     "name": "stdout",
     "output_type": "stream",
     "text": [
      "table: [red, empty, blue]\n",
      "buckets: [green, red]\n",
      "\n",
      "--------------------------------------------------------------------------------------------------\n",
      "action: \t|\tpickL\t|\tpickM\t|\tpickR\t|\tputL\t|\tputR\t|\n",
      "--------------------------------------------------------------------------------------------------\n",
      "arm: empty\t|0.00000\t|0.00000\t|0.00000\t|0.00000\t|0.00000\t|\n",
      "arm: red\t|0.00321\t|0.00000\t|0.22335\t|1.00000\t|0.18710\t|\n",
      "arm: green\t|0.46801\t|0.29093\t|0.00000\t|0.49034\t|1.00000\t|\n",
      "arm: blue\t|0.56605\t|0.00000\t|0.37616\t|1.00000\t|0.30974\t|\n",
      "--------------------------------------------------------------------------------------------------\n",
      "table: [red, empty, blue]\n",
      "buckets: [green, red]\n",
      "\n",
      "--------------------------------------------------------------------------------------------------\n",
      "action: \t|\tpickL\t|\tpickM\t|\tpickR\t|\tputL\t|\tputR\t|\n",
      "--------------------------------------------------------------------------------------------------\n",
      "arm: empty\t|0.00000\t|0.00000\t|0.00000\t|0.00000\t|0.00000\t|\n",
      "arm: red\t|0.65371\t|0.00000\t|0.08614\t|1.00000\t|0.49185\t|\n",
      "arm: green\t|0.02258\t|0.00000\t|0.01511\t|0.20473\t|1.00000\t|\n",
      "arm: blue\t|0.14149\t|0.14057\t|0.00000\t|1.00000\t|0.17295\t|\n",
      "--------------------------------------------------------------------------------------------------\n"
     ]
    }
   ],
   "source": [
    "print('table: [red, empty, blue]')\n",
    "print('buckets: [green, red]\\n')\n",
    "\n",
    "print('-'*98)\n",
    "print('action: \\t|\\tpickL\\t|\\tpickM\\t|\\tpickR\\t|\\tputL\\t|\\tputR\\t|')\n",
    "print('-'*98)\n",
    "for i, table in enumerate(['empty', 'red', 'green', 'blue']):\n",
    "    s = 'arm: ' + table + '\\t|'\n",
    "    Q_show = Q[1, 0, 3, i, 2, 1, :] - np.min(Q[1, 0, 3, i, 2, 1, :])\n",
    "    if (np.max(Q[1, 0, 3, i, 2, 1, :]) - np.min(Q[1, 0, 3, i, 2, 1, :])) != 0:\n",
    "        Q_show /= (np.max(Q[1, 0, 3, i, 2, 1, :]) - np.min(Q[1, 0, 3, i, 2, 1, :]))\n",
    "    for j, v in enumerate(Q_show):\n",
    "        s += '%.5f' % v + '\\t|'\n",
    "    print(s)\n",
    "print('-'*98)\n",
    "\n",
    "print('table: [red, empty, blue]')\n",
    "print('buckets: [green, red]\\n')\n",
    "\n",
    "print('-'*98)\n",
    "print('action: \\t|\\tpickL\\t|\\tpickM\\t|\\tpickR\\t|\\tputL\\t|\\tputR\\t|')\n",
    "print('-'*98)\n",
    "for i, table in enumerate(['empty', 'red', 'green', 'blue']):\n",
    "    s = 'arm: ' + table + '\\t|'\n",
    "    Q_show = Q_estim[1, 0, 3, i, 2, 1, :] - np.min(Q_estim[1, 0, 3, i, 2, 1, :])\n",
    "    if (np.max(Q_estim[1, 0, 3, i, 2, 1, :]) - np.min(Q_estim[1, 0, 3, i, 2, 1, :])) != 0:\n",
    "        Q_show /= (np.max(Q_estim[1, 0, 3, i, 2, 1, :]) - np.min(Q_estim[1, 0, 3, i, 2, 1, :]))      \n",
    "    for j, v in enumerate(Q_show):\n",
    "        s += '%.5f' % v + '\\t|'\n",
    "    print(s)\n",
    "print('-'*98)"
   ]
  },
  {
   "cell_type": "code",
   "execution_count": null,
   "metadata": {},
   "outputs": [],
   "source": []
  },
  {
   "cell_type": "code",
   "execution_count": null,
   "metadata": {},
   "outputs": [],
   "source": []
  },
  {
   "cell_type": "code",
   "execution_count": null,
   "metadata": {
    "collapsed": true
   },
   "outputs": [],
   "source": []
  }
 ],
 "metadata": {
  "kernelspec": {
   "display_name": "Python [conda env:anaconda2]",
   "language": "python",
   "name": "conda-env-anaconda2-py"
  },
  "language_info": {
   "codemirror_mode": {
    "name": "ipython",
    "version": 2
   },
   "file_extension": ".py",
   "mimetype": "text/x-python",
   "name": "python",
   "nbconvert_exporter": "python",
   "pygments_lexer": "ipython2",
   "version": "2.7.13"
  }
 },
 "nbformat": 4,
 "nbformat_minor": 2
}
